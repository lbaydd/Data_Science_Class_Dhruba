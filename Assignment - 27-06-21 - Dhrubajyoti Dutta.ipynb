{
 "cells": [
  {
   "cell_type": "code",
   "execution_count": null,
   "id": "fb73d918",
   "metadata": {},
   "outputs": [],
   "source": [
    "# Assignments"
   ]
  },
  {
   "cell_type": "code",
   "execution_count": 97,
   "id": "6b515401",
   "metadata": {},
   "outputs": [],
   "source": [
    "# ASSIGNMENT ON INT"
   ]
  },
  {
   "cell_type": "code",
   "execution_count": 6,
   "id": "d324e6a1",
   "metadata": {},
   "outputs": [
    {
     "name": "stdout",
     "output_type": "stream",
     "text": [
      "Value is 10, type is <class 'int'>, id is 140736710781008\n"
     ]
    }
   ],
   "source": [
    "# Q1. Declare an int value and store it in a variable.\n",
    "# Check the type and print the id of the same.\n",
    "a = 10\n",
    "print(f'Value is {a}, type is {type(a)}, id is {id(a)}')"
   ]
  },
  {
   "cell_type": "code",
   "execution_count": 8,
   "id": "22769f5f",
   "metadata": {},
   "outputs": [
    {
     "name": "stdout",
     "output_type": "stream",
     "text": [
      "id of b1 is 140736710783888, id of b2 is 140736710783888\n"
     ]
    }
   ],
   "source": [
    "# Q2. Take one int value between 0 - 256.\n",
    "# Assign it to two different variables.\n",
    "# Check the id of both the variables. It should come the same. Check why?\n",
    "a = 100\n",
    "b1 = a\n",
    "b2 = a\n",
    "print(f'id of b1 is {id(b1)}, id of b2 is {id(b2)}')\n",
    "# id of both b1 and b2 are same as both are having same value assigned and points to the same memory address"
   ]
  },
  {
   "cell_type": "code",
   "execution_count": 11,
   "id": "08430e19",
   "metadata": {},
   "outputs": [
    {
     "name": "stdout",
     "output_type": "stream",
     "text": [
      "id of b1 is 3016417486544, id of b2 is 3016417486384\n"
     ]
    }
   ],
   "source": [
    "# Q3. Take one int value either less than -5 or greater than 256.\n",
    "# Assign it to two different variables.\n",
    "# Check the id of both the variables. It should come different.Check why?\n",
    "b1 = -6\n",
    "b2 = 257\n",
    "print(f'id of b1 is {id(b1)}, id of b2 is {id(b2)}')\n",
    "# id of both b1 and b2 are different as outside the int range of -5 to 256, values are pre-assigned to memory, \n",
    "# outside this range these are dynamically assigned to different memory"
   ]
  },
  {
   "cell_type": "code",
   "execution_count": 24,
   "id": "82f8e3c3",
   "metadata": {},
   "outputs": [
    {
     "name": "stdout",
     "output_type": "stream",
     "text": [
      "Sum is 13\n",
      "Diff is 7\n",
      "Prod is 30\n",
      "Div is 3.3333333333333335\n",
      "Quotient is 3\n",
      "Remainder is 1\n",
      "Remainder is 1000\n"
     ]
    }
   ],
   "source": [
    "# Q4. Arithmetic Operations on integers\n",
    "# Take two different integer values.\n",
    "# Store them in two different variables.\n",
    "# Do below operations on them:-\n",
    "#  Find sum of both numbers\n",
    "#  Find difference between them\n",
    "#  Find the product of both numbers.\n",
    "#  Find value after dividing first num with second number\n",
    "#  Find the remainder after dividing first number with second number\n",
    "#  Find the quotient after dividing first number with second number\n",
    "#  Find the result of the first num to the power of the second number.\n",
    "\n",
    "a = 10\n",
    "b = 3\n",
    "\n",
    "print(f'Sum is {a + b}')\n",
    "print(f'Diff is {a - b}')\n",
    "print(f'Prod is {a * b}')\n",
    "print(f'Div is {a / b}')\n",
    "print(f'Quotient is {a // b}')\n",
    "print(f'Remainder is {a % b}')\n",
    "print(f'Power is {a ** b}')"
   ]
  },
  {
   "cell_type": "code",
   "execution_count": 29,
   "id": "c0006c80",
   "metadata": {},
   "outputs": [
    {
     "name": "stdout",
     "output_type": "stream",
     "text": [
      "a Greater Than b? True\n",
      "a Smaller Than b? False\n",
      "a Greater Than Equal To b? True\n",
      "a Less Than Equal To b? False\n"
     ]
    }
   ],
   "source": [
    "# Q5. Comparison Operators on integers\n",
    "# Take two different integer values.\n",
    "# Store them in two different variables.\n",
    "# Do below operations on them:-\n",
    "#  Compare se two numbers with below operator:-\n",
    "#  Greater than, '>'\n",
    "#  Smaller than, '<'\n",
    "#  Greater than or equal to, '>='\n",
    "#  Less than or equal to, '<='\n",
    "# Observe their output(return type should be boolean)\n",
    "\n",
    "a = 10\n",
    "b = 3\n",
    "\n",
    "print(f'a Greater Than b? {a > b}')\n",
    "print(f'a Smaller Than b? {a < b}')\n",
    "print(f'a Greater Than Equal To b? {a >= b}')\n",
    "print(f'a Less Than Equal To b? {a <= b}')"
   ]
  },
  {
   "cell_type": "code",
   "execution_count": 35,
   "id": "407191a2",
   "metadata": {},
   "outputs": [
    {
     "name": "stdout",
     "output_type": "stream",
     "text": [
      "a == b? False, return type <class 'bool'>\n",
      "a != b? True, return type <class 'bool'>\n"
     ]
    }
   ],
   "source": [
    "# Q6. Equality Operator\n",
    "# Take two different integer values.\n",
    "# Store them in two different variables.\n",
    "# Equate them using equality operators (==, !=)\n",
    "# Observe the output(return type should be boolean)\n",
    "\n",
    "a = 10\n",
    "b = 3\n",
    "\n",
    "print(f'a == b? {a == b}, return type {type(a == b)}')\n",
    "print(f'a != b? {a != b}, return type {type(a == b)}')"
   ]
  },
  {
   "cell_type": "code",
   "execution_count": 45,
   "id": "992db3fe",
   "metadata": {},
   "outputs": [
    {
     "name": "stdout",
     "output_type": "stream",
     "text": [
      "20\n",
      "0\n",
      "0\n",
      "0\n",
      "10\n",
      "20\n",
      "20\n",
      "0\n",
      "False\n",
      "True\n"
     ]
    }
   ],
   "source": [
    "# Q7. Logical operators\n",
    "# Observe the output of below codeCross check the output manually\n",
    "print(10 and 20)\n",
    "# #----------------------------------------->Output is 20\n",
    "print(0 and 20)\n",
    "# #----------------------------------------->Output is 0\n",
    "print(20 and 0)\n",
    "# #----------------------------------------->Output is 0\n",
    "print(0 and 0)\n",
    "# #----------------------------------------->Output is 0\n",
    "print(10 or 20)\n",
    "# #----------------------------------------->Output is 10\n",
    "print(0 or 20)\n",
    "# #----------------------------------------->Output is 20\n",
    "print(20 or 0)\n",
    "# #----------------------------------------->Output is 20\n",
    "print(0 or 0)\n",
    "# #----------------------------------------->Output is 0\n",
    "print(not 10)\n",
    "# #----------------------------------------->Output is False\n",
    "print(not 0)\n",
    "# #----------------------------------------->Output is True"
   ]
  },
  {
   "cell_type": "code",
   "execution_count": 60,
   "id": "754ed3be",
   "metadata": {},
   "outputs": [
    {
     "name": "stdout",
     "output_type": "stream",
     "text": [
      "0b1010\n",
      "0b10100\n",
      "0\n",
      "30\n",
      "30\n",
      "-11\n",
      "40\n",
      "2\n"
     ]
    }
   ],
   "source": [
    "# Q8. Bitwise Operators\n",
    "# Do below operations on the values provided below:-\n",
    "#  Bitwise and(&) -----------------------------------------> 10, 20\n",
    "# -------> Output is 0\n",
    "#  Bitwise or(|) -----------------------------------------> 10, 20\n",
    "# -------> Output is 30\n",
    "#  Bitwise(^) -----------------------------------------> 10, 20\n",
    "# -------> Output is 30\n",
    "#  Bitwise negation(~) ------------------------------------> 10\n",
    "# -------> Output is -11\n",
    "#  Bitwise left shift ------------------------------------> 10,2\n",
    "# -------> Output is 40\n",
    "#  Bitwise right shift ------------------------------------> 10,2\n",
    "# -------> Output is 2\n",
    "# Cross check the output manually\n",
    "\n",
    "print(bin(10))\n",
    "print(bin(20))\n",
    "\n",
    "print(10 & 20)\n",
    "print(10 | 20)\n",
    "print(10 ^ 20)\n",
    "print(~10)\n",
    "print(10<<2)\n",
    "print(10>>2)\n",
    "\n",
    "# 10100\n",
    "#  1010\n",
    "# print(0b11110)    "
   ]
  },
  {
   "cell_type": "code",
   "execution_count": 66,
   "id": "c16612cb",
   "metadata": {},
   "outputs": [
    {
     "name": "stdout",
     "output_type": "stream",
     "text": [
      "True\n",
      "False\n",
      "id of a 140736710781008, id of b 140736710781008\n",
      "\n",
      "False\n",
      "True\n",
      "id of a 3016418415216, id of b 3016418416048\n"
     ]
    }
   ],
   "source": [
    "# Q9. What is the output of expression inside print statement. Cross check\n",
    "# before running the program.a = 10\n",
    "# b = 10\n",
    "# print(a is b) #True or False?\n",
    "# print(a is not b) #True or False?\n",
    "# a = 1000\n",
    "# b = 1000\n",
    "# print(a is b) #True or False?\n",
    "# print(a is not b) #True or False?\n",
    "\n",
    "a = 10\n",
    "b = 10\n",
    "print(a is b)\n",
    "print(a is not b)\n",
    "print(f'id of a {id(a)}, id of b {id(b)}')\n",
    "print()\n",
    "a = 1000\n",
    "b = 1000\n",
    "print(a is b)\n",
    "print(a is not b)\n",
    "print(f'id of a {id(a)}, id of b {id(b)}')"
   ]
  },
  {
   "cell_type": "code",
   "execution_count": 67,
   "id": "94362fd3",
   "metadata": {},
   "outputs": [
    {
     "name": "stdout",
     "output_type": "stream",
     "text": [
      "20\n"
     ]
    }
   ],
   "source": [
    "# Q10. What is the output of expression inside print statement. Cross check\n",
    "# before running the program.\n",
    "print(10+(10*32)//2**5&20+(~(-10))<<2)\n",
    "\n",
    "# operator Precedence\n",
    "# Operators                                     \tMeaning\n",
    "# ()                                            \tParentheses\n",
    "# **                                            \tExponent\n",
    "# +x, -x, ~x                                    \tUnary plus, Unary minus, Bitwise NOT\n",
    "# *, /, //, %                                   \tMultiplication, Division, Floor division, Modulus\n",
    "# +, -                                          \tAddition, Subtraction\n",
    "# <<, >>                                        \tBitwise shift operators\n",
    "# &                                             \tBitwise AND\n",
    "# ^                                             \tBitwise XOR\n",
    "# |                                             \tBitwise OR\n",
    "# ==, !=, >, >=, <, <=, is, is not, in, not in  \tComparisons, Identity, Membership operators\n",
    "# not                                           \tLogical NOT\n",
    "# and                                           \tLogical AND\n",
    "# or                                            \tLogical OR"
   ]
  },
  {
   "cell_type": "code",
   "execution_count": 73,
   "id": "9f3c11cb",
   "metadata": {},
   "outputs": [
    {
     "name": "stdout",
     "output_type": "stream",
     "text": [
      "True\n",
      "True\n",
      "True\n",
      "True\n",
      "True\n",
      "True\n"
     ]
    }
   ],
   "source": [
    "# Q11. Membership operation\n",
    "# in, not in are two membership operators and it returns boolean value\n",
    "print('2' in 'Python2.7.8')\n",
    "print(10 in [10,10.20,10+20j,'Python'])\n",
    "print(10 in (10,10.20,10+20j,'Python'))\n",
    "print(2 in {1,2,3})\n",
    "print(3 in {1:100, 2:200, 3:300})\n",
    "print(10 in range(20))"
   ]
  },
  {
   "cell_type": "code",
   "execution_count": 80,
   "id": "da04ed21",
   "metadata": {},
   "outputs": [
    {
     "name": "stdout",
     "output_type": "stream",
     "text": [
      "0b1010   0o12   0xa\n",
      "0b10011010010100   0o23224   0x2694\n"
     ]
    }
   ],
   "source": [
    "# Q12. An integer can be represented in binary, octal or hexadecimal form.\n",
    "# Declare one binary, one octal and one hexadecimal value and store them\n",
    "# in three different variables.\n",
    "# Convert 9876 to its binary, octal and hexadecimal equivalent and print\n",
    "# their corresponding value.\n",
    "a_bin = bin(10)\n",
    "a_oct = oct(10)\n",
    "a_hex = hex(10)\n",
    "print(a_bin, ' ',a_oct, ' ', a_hex)\n",
    "\n",
    "a_bin = bin(9876)\n",
    "a_oct = oct(9876)\n",
    "a_hex = hex(9876)\n",
    "print(a_bin, ' ',a_oct, ' ', a_hex)"
   ]
  },
  {
   "cell_type": "code",
   "execution_count": 94,
   "id": "d6ebd4b5",
   "metadata": {},
   "outputs": [
    {
     "name": "stdout",
     "output_type": "stream",
     "text": [
      "80\n",
      "3870\n",
      "64222\n",
      "0b1010000\n",
      "0o7436\n",
      "0xfade\n",
      "0b1010000\n",
      "0b1111101011011110\n",
      "0o175336\n",
      "0o7436\n",
      "0x50\n",
      "0xfade\n"
     ]
    }
   ],
   "source": [
    "# Q13. What will be the output of following:-\n",
    "a = 0b1010000\n",
    "print(a)\n",
    "b = 0o7436\n",
    "print(b)\n",
    "c = 0xfade\n",
    "print(c)\n",
    "print(bin(80))\n",
    "print(oct(3870))\n",
    "print(hex(64222))\n",
    "print(bin(0b1010000))\n",
    "print(bin(0xfade))\n",
    "print(oct(0xfade))\n",
    "print(oct(0o7436))\n",
    "print(hex(0b1010000))\n",
    "print(hex(0xfade))"
   ]
  },
  {
   "cell_type": "code",
   "execution_count": 98,
   "id": "5ad8cd84",
   "metadata": {},
   "outputs": [],
   "source": [
    "# ASSIGNMENT ON FLOAT"
   ]
  },
  {
   "cell_type": "code",
   "execution_count": null,
   "id": "ac4db6c4",
   "metadata": {},
   "outputs": [],
   "source": []
  },
  {
   "cell_type": "code",
   "execution_count": 100,
   "id": "5ab91a25",
   "metadata": {},
   "outputs": [
    {
     "name": "stdout",
     "output_type": "stream",
     "text": [
      "Value is 10.3, type is <class 'float'>, id is 3016418417168\n"
     ]
    }
   ],
   "source": [
    "# Q1. Declare a float value and store it in a variable.\n",
    "# Check the type and print the id of the same.\n",
    "a = 10.3\n",
    "print(f'Value is {a}, type is {type(a)}, id is {id(a)}')"
   ]
  },
  {
   "cell_type": "code",
   "execution_count": 101,
   "id": "81e66b9c",
   "metadata": {},
   "outputs": [
    {
     "name": "stdout",
     "output_type": "stream",
     "text": [
      "Sum is 13.4\n",
      "Diff is 7.200000000000001\n",
      "Prod is 31.930000000000003\n",
      "Div is 3.3225806451612905\n",
      "Quotient is 3.0\n",
      "Remainder is 1.0000000000000004\n",
      "Power is 1379.7340955902305\n"
     ]
    }
   ],
   "source": [
    "# Q2. Arithmetic Operations on float\n",
    "# Take two different float values.\n",
    "# Store them in two different variables.\n",
    "# Do below operations on them:-\n",
    "#  Find sum of both numbers\n",
    "#  Find difference between them\n",
    "#  Find the product of both numbers.\n",
    "#  Find value after dividing first num with second number\n",
    "#  Find the remainder after dividing first number with second number\n",
    "#  Find the quotient after dividing first number with second number\n",
    "#  Find the result of the first num to the power of the second number.\n",
    "\n",
    "a = 10.3\n",
    "b = 3.1\n",
    "\n",
    "print(f'Sum is {a + b}')\n",
    "print(f'Diff is {a - b}')\n",
    "print(f'Prod is {a * b}')\n",
    "print(f'Div is {a / b}')\n",
    "print(f'Quotient is {a // b}')\n",
    "print(f'Remainder is {a % b}')\n",
    "print(f'Power is {a ** b}')"
   ]
  },
  {
   "cell_type": "code",
   "execution_count": 102,
   "id": "2223dfe6",
   "metadata": {},
   "outputs": [
    {
     "name": "stdout",
     "output_type": "stream",
     "text": [
      "a Greater Than b? True\n",
      "a Smaller Than b? False\n",
      "a Greater Than Equal To b? True\n",
      "a Less Than Equal To b? False\n"
     ]
    }
   ],
   "source": [
    "# Q3. Comparison Operators on float\n",
    "# Take two different float values.\n",
    "# Store them in two different variables.\n",
    "# Do below operations on them:-\n",
    "#  Compare these two numbers with below operator:-\n",
    "#  Greater than, '>'\n",
    "#  Smaller than, '<'\n",
    "#  Greater than or equal to, '>='\n",
    "#  Less than or equal to, '<='\n",
    "# Observe their output(return type should be boolean)\n",
    "\n",
    "a = 10.3\n",
    "b = 3.1\n",
    "\n",
    "print(f'a Greater Than b? {a > b}')\n",
    "print(f'a Smaller Than b? {a < b}')\n",
    "print(f'a Greater Than Equal To b? {a >= b}')\n",
    "print(f'a Less Than Equal To b? {a <= b}')"
   ]
  },
  {
   "cell_type": "code",
   "execution_count": 103,
   "id": "5e6f6958",
   "metadata": {},
   "outputs": [
    {
     "name": "stdout",
     "output_type": "stream",
     "text": [
      "a == b? False, return type <class 'bool'>\n",
      "a != b? True, return type <class 'bool'>\n"
     ]
    }
   ],
   "source": [
    "# Q4. Equality Operator\n",
    "# Take two different float values.\n",
    "# Store them in two different variables.\n",
    "# Equate them using equality operators (==, !=)\n",
    "# Observe the output(return type should be boolean)\n",
    "\n",
    "a = 10.3\n",
    "b = 3.1\n",
    "\n",
    "print(f'a == b? {a == b}, return type {type(a == b)}')\n",
    "print(f'a != b? {a != b}, return type {type(a == b)}')"
   ]
  },
  {
   "cell_type": "code",
   "execution_count": 108,
   "id": "26e78363",
   "metadata": {},
   "outputs": [
    {
     "name": "stdout",
     "output_type": "stream",
     "text": [
      "20.3\n",
      "0.0\n",
      "0.0\n",
      "0.0\n",
      "10.2\n",
      "20.3\n",
      "20.3\n",
      "0.0\n",
      "False\n",
      "True\n"
     ]
    }
   ],
   "source": [
    "# Q5. Logical operators\n",
    "# Observe the output of below code\n",
    "# Cross check the output manually\n",
    "# print(10.20 and 20.30) #both are true and second value taken\n",
    "# >Output is 20.3\n",
    "# print(0.0 and 20.30) #First is false so first value\n",
    "# taken->Output is 0.0print(20.30 and 0.0) #Goes to till second and second value is\n",
    "# false so second is taken>Output is 0.0\n",
    "# print(0.0 and 0.0) #First is false so first value is\n",
    "# taken->Output is 0.0\n",
    "# print(10.20 or 20.30) #First is True so first value is\n",
    "# taken>Output is 10.2\n",
    "# print(0.0 or 20.30) #Goes to till second and second is true\n",
    "# second value is taken->Output is 20.3\n",
    "# print(20.30 or 0.0) #First is True so first value is\n",
    "# taken->Output is 20.3\n",
    "# print(0.0 or 0.0) #Goes to till second and second is also\n",
    "# false and second value is taken>Output is 0.0\n",
    "# print(not 10.20) #-Not of true is false->Output is False\n",
    "# print(not 0.0) #Not of false is True>Output is True\n",
    "\n",
    "print(10.20 and 20.30)\n",
    "print(0.0 and 20.30)\n",
    "print(20.30 and 0.0)\n",
    "print(0.0 and 0.0)\n",
    "print(10.20 or 20.30)\n",
    "print(0.0 or 20.30)\n",
    "print(20.30 or 0.0)\n",
    "print(0.0 or 0.0)\n",
    "print(not 10.20)\n",
    "print(not 0.0)"
   ]
  },
  {
   "cell_type": "code",
   "execution_count": 123,
   "id": "231b7cd2",
   "metadata": {},
   "outputs": [
    {
     "name": "stdout",
     "output_type": "stream",
     "text": [
      "False\n",
      "True\n",
      "id of a is 3016418416528\n",
      "id of b is 3016416075536\n",
      "id of c is 3016418416528\n"
     ]
    }
   ],
   "source": [
    "# Q6. What is the output of expression inside print statement. Cross check\n",
    "# before running the program.\n",
    "# a = 10.20\n",
    "# b = 10.20\n",
    "# print(a is b) #True or False? True 10.20<256\n",
    "# print(a is not b) #True or False? False\n",
    "# Why the Id of float values are different when the same value is\n",
    "# assigned to two different variables\n",
    "# ex: a = 10.5 b=10.5. but id will be same if I assign the variable\n",
    "# having float i.e. a=c then both a and c's Id are same\n",
    "\n",
    "a = 10.20\n",
    "b = 10.20\n",
    "print(a is b)\n",
    "print(a is not b)\n",
    "a = c\n",
    "print('id of a is', id(a))\n",
    "print('id of b is', id(b))\n",
    "print('id of c is', id(c))"
   ]
  },
  {
   "cell_type": "code",
   "execution_count": 118,
   "id": "d2eec586",
   "metadata": {},
   "outputs": [
    {
     "name": "stdout",
     "output_type": "stream",
     "text": [
      "True\n",
      "True\n",
      "True\n",
      "True\n",
      "True\n",
      "True\n"
     ]
    }
   ],
   "source": [
    "\n",
    "# Q7. Bitwise operation is not applicable between instances of float.\n",
    "# Why the Id of float values are different when the same value is\n",
    "# assigned to two different variables\n",
    "# ex: a = 10.5 b=10.5. but id will be same if I assign the variable\n",
    "# having float i.e. a=c then both a and c's Id are same\n",
    "# Object reusability concept is not applicable on float values.Q. Membership operation\n",
    "# in, not in are two membership operators and it returns boolean value\n",
    "print('2.7' in 'Python2.7.8') #True\n",
    "print(10.20 in [10,10.20,10+20j,'Python']) #True\n",
    "print(10.20 in (10,10.20,10+20j,'Python')) # True\n",
    "print(20.30 in {1,20.30,30+40j}) # True\n",
    "print(2.3 in {1:100, 2.3:200, 30+40j:300}) # True\n",
    "print(10 in range(20)) # True"
   ]
  },
  {
   "cell_type": "code",
   "execution_count": null,
   "id": "2022417f",
   "metadata": {},
   "outputs": [],
   "source": [
    "# ASSIGNMENT BOOLEAN"
   ]
  },
  {
   "cell_type": "code",
   "execution_count": null,
   "id": "e0a3421b",
   "metadata": {},
   "outputs": [],
   "source": [
    "# Q. Declare a boolean value and store it in a variable.\n",
    "# Check the type and print the id of the same.\n",
    "# Q. Take one boolean value between 0 - 256.\n",
    "# Assign it to two different variables.\n",
    "# Check the id of both the variables. It should come the same. Check why?\n",
    "# Q. Arithmetic Operations on boolean data\n",
    "# Take two different boolean values.\n",
    "# Store them in two different variables.\n",
    "# Do below operations on them:-\n",
    "#  Find sum of both values\n",
    "#  Find difference between them\n",
    "#  Find the product of both.\n",
    "#  Find value after dividing first value with second value\n",
    "#  Find the remainder after dividing first value with second value\n",
    "#  Find the quotient after dividing first value with second value\n",
    "#  Find the result of first value to the power of second value.\n",
    "# Q. Comparison Operators on boolean values\n",
    "# Take two different boolean values.\n",
    "# Store them in two different variables.\n",
    "# Do below operations on them:-\n",
    "#  Compare these two values with below operator:-\n",
    "#  Greater than, '>'\n",
    "#  less than, '<'\n",
    "#  Greater than or equal to, '>='\n",
    "#  Less than or equal to, '<='\n",
    "# Observe their output(return type should be boolean)\n",
    "# Q. Equality Operator\n",
    "# Take two different boolean values.\n",
    "# Store them in two different variables.\n",
    "# Equate them using equality operators (==, !=)\n",
    "# Observe the output(return type should be boolean)\n",
    "# Q. Logical operators\n",
    "# Observe the output of below code\n",
    "# Cross check the output manually\n",
    "# print(True and True)\n",
    "# #----------------------------------------->Output is Trueprint(False and True)\n",
    "# #----------------------------------------->Output is False\n",
    "# print(True and False)\n",
    "# #----------------------------------------->Output is False\n",
    "# print(False and False)\n",
    "# #----------------------------------------->Output is False\n",
    "# print(True or True)\n",
    "# #----------------------------------------->Output is True\n",
    "# print(False or True)\n",
    "# #----------------------------------------->Output is True\n",
    "# print(True or False)\n",
    "# #----------------------------------------->Output is True\n",
    "# print(False or False)\n",
    "# #----------------------------------------->Output is False\n",
    "# print(not True)\n",
    "# #----------------------------------------->Output is False\n",
    "# print(not False)\n",
    "# #----------------------------------------->Output is True\n",
    "# Q. Bitwise Operators\n",
    "# Do below operations on the values provided below:-\n",
    "#  Bitwise and(&) --------------> True, True -------> Output is True\n",
    "#  Bitwise or(|) --------------> True, False -------> Output is True\n",
    "#  Bitwise(^) --------------> True, False -------> Output is True\n",
    "#  Bitwise negation(~) ---------> True -------> Output is -2\n",
    "#  Bitwise left shift ---------> True,2 -------> Output is 4\n",
    "#  Bitwise right shift ---------> True,2 -------> Output is 0\n",
    "# Cross check the output manually\n",
    "# Q. What is the output of expression inside the print statement. Cross\n",
    "# check before running the program.\n",
    "# a = True\n",
    "# b = True\n",
    "# print(a is b) #True or False? #print(a is not b) #True or False?\n",
    "# a = False\n",
    "# b = False\n",
    "# print(a is b) #True or False?\n",
    "# print(a is not b) #True or False?\n",
    "# Q. Membership operation\n",
    "# in, not in are two membership operators and it returns boolean value\n",
    "# print(True in [10,10.20,10+20j,'Python', True])\n",
    "# print(False in (10,10.20,10+20j,'Python', False))\n",
    "# print(True in {1,2,3, True})\n",
    "# print(True in {True:100, False:200, True:300})\n",
    "# print(False in {True:100, False:200, True:300})"
   ]
  },
  {
   "cell_type": "code",
   "execution_count": null,
   "id": "017090b5",
   "metadata": {},
   "outputs": [],
   "source": []
  },
  {
   "cell_type": "code",
   "execution_count": null,
   "id": "2e28e0f1",
   "metadata": {},
   "outputs": [],
   "source": []
  },
  {
   "cell_type": "code",
   "execution_count": null,
   "id": "5e0bca7f",
   "metadata": {},
   "outputs": [],
   "source": []
  },
  {
   "cell_type": "code",
   "execution_count": null,
   "id": "4e03d9d6",
   "metadata": {},
   "outputs": [],
   "source": []
  },
  {
   "cell_type": "code",
   "execution_count": null,
   "id": "4f0f053d",
   "metadata": {},
   "outputs": [],
   "source": []
  },
  {
   "cell_type": "code",
   "execution_count": null,
   "id": "f6f6625c",
   "metadata": {},
   "outputs": [],
   "source": []
  },
  {
   "cell_type": "code",
   "execution_count": null,
   "id": "3a284c1e",
   "metadata": {},
   "outputs": [],
   "source": []
  },
  {
   "cell_type": "code",
   "execution_count": null,
   "id": "741d5c9e",
   "metadata": {},
   "outputs": [],
   "source": []
  },
  {
   "cell_type": "code",
   "execution_count": null,
   "id": "924eee25",
   "metadata": {},
   "outputs": [],
   "source": []
  },
  {
   "cell_type": "code",
   "execution_count": null,
   "id": "8b9f6c3b",
   "metadata": {},
   "outputs": [],
   "source": []
  },
  {
   "cell_type": "code",
   "execution_count": null,
   "id": "9e6d784b",
   "metadata": {},
   "outputs": [],
   "source": []
  },
  {
   "cell_type": "code",
   "execution_count": null,
   "id": "6de4ae64",
   "metadata": {},
   "outputs": [],
   "source": []
  },
  {
   "cell_type": "code",
   "execution_count": null,
   "id": "01abb7f3",
   "metadata": {},
   "outputs": [],
   "source": []
  },
  {
   "cell_type": "code",
   "execution_count": null,
   "id": "a68a9d9b",
   "metadata": {},
   "outputs": [],
   "source": []
  },
  {
   "cell_type": "code",
   "execution_count": null,
   "id": "8d8adc7d",
   "metadata": {},
   "outputs": [],
   "source": []
  },
  {
   "cell_type": "code",
   "execution_count": null,
   "id": "8a1ab4ea",
   "metadata": {},
   "outputs": [],
   "source": []
  },
  {
   "cell_type": "code",
   "execution_count": null,
   "id": "bda7a163",
   "metadata": {},
   "outputs": [],
   "source": []
  },
  {
   "cell_type": "code",
   "execution_count": null,
   "id": "0cda6308",
   "metadata": {},
   "outputs": [],
   "source": []
  },
  {
   "cell_type": "code",
   "execution_count": null,
   "id": "b7bbc39e",
   "metadata": {},
   "outputs": [],
   "source": []
  },
  {
   "cell_type": "code",
   "execution_count": null,
   "id": "6ee0afc1",
   "metadata": {},
   "outputs": [],
   "source": []
  },
  {
   "cell_type": "code",
   "execution_count": null,
   "id": "7d61f2bc",
   "metadata": {},
   "outputs": [],
   "source": []
  },
  {
   "cell_type": "code",
   "execution_count": null,
   "id": "95d7c3cd",
   "metadata": {},
   "outputs": [],
   "source": []
  },
  {
   "cell_type": "code",
   "execution_count": null,
   "id": "c80f5a3c",
   "metadata": {},
   "outputs": [],
   "source": []
  },
  {
   "cell_type": "code",
   "execution_count": null,
   "id": "8ddddc35",
   "metadata": {},
   "outputs": [],
   "source": []
  },
  {
   "cell_type": "code",
   "execution_count": null,
   "id": "d0fcf704",
   "metadata": {},
   "outputs": [],
   "source": []
  },
  {
   "cell_type": "code",
   "execution_count": null,
   "id": "64e024e6",
   "metadata": {},
   "outputs": [],
   "source": []
  },
  {
   "cell_type": "code",
   "execution_count": null,
   "id": "4b989e0f",
   "metadata": {},
   "outputs": [],
   "source": []
  }
 ],
 "metadata": {
  "kernelspec": {
   "display_name": "Python 3",
   "language": "python",
   "name": "python3"
  },
  "language_info": {
   "codemirror_mode": {
    "name": "ipython",
    "version": 3
   },
   "file_extension": ".py",
   "mimetype": "text/x-python",
   "name": "python",
   "nbconvert_exporter": "python",
   "pygments_lexer": "ipython3",
   "version": "3.8.8"
  }
 },
 "nbformat": 4,
 "nbformat_minor": 5
}
